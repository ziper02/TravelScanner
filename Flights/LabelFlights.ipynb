{
 "cells": [
  {
   "cell_type": "code",
   "execution_count": 242,
   "metadata": {
    "collapsed": true
   },
   "outputs": [],
   "source": [
    "from Utilities import Statistics as statistics\n",
    "import os\n",
    "import json\n",
    "from Entity.Flight import Flight\n",
    "from datetime import datetime\n",
    "from Utilities import General"
   ]
  },
  {
   "cell_type": "markdown",
   "source": [
    "### Graph before labeling\n"
   ],
   "metadata": {
    "collapsed": false,
    "pycharm": {
     "name": "#%% md\n"
    }
   }
  },
  {
   "cell_type": "code",
   "execution_count": 243,
   "outputs": [
    {
     "data": {
      "text/plain": "<Figure size 432x288 with 1 Axes>",
      "image/png": "[encoded data removed]"
     },
     "metadata": {
      "needs_background": "light"
     },
     "output_type": "display_data"
    }
   ],
   "source": [
    "destination=\"MILA\"\n",
    "\n",
    "statistics.get_statistic_of_destination(destination)"
   ],
   "metadata": {
    "collapsed": false,
    "pycharm": {
     "name": "#%%\n"
    }
   }
  },
  {
   "cell_type": "markdown",
   "source": [
    "### Load the data of destination"
   ],
   "metadata": {
    "collapsed": false,
    "pycharm": {
     "name": "#%% md\n"
    }
   }
  },
  {
   "cell_type": "code",
   "source": [
    "with open(os.path.dirname(os.path.abspath(\"__file__\")) +\n",
    "          '/../Data/Flights/json_files_dict.json', 'r') as f:\n",
    "    dict = json.load(f)\n",
    "with open(os.path.dirname(os.path.abspath(\"__file__\")) +\n",
    "          '/../Data/Flights/airports_countries.json', 'r') as f2:\n",
    "    shortcut_dict = json.load(f2)\n",
    "if destination in shortcut_dict:\n",
    "    fullname_airport = shortcut_dict[destination]['airportName']\n",
    "    list = dict[fullname_airport]\n",
    "    flights_data = []\n",
    "    for json_file in list:\n",
    "        with open(os.path.dirname(os.path.abspath(\"__file__\"))\n",
    "                  + \"/../\" + json_file) as f:\n",
    "         data = json.load(f)\n",
    "        for temp in data:\n",
    "            flights_data.append((Flight(**temp),json_file))\n",
    "else:\n",
    "    raise SystemExit(\"The destination is not found!\")\n",
    "print(f'The length of data is: {str(len(flights_data))}')\n",
    "check_data_labeled=[item for item in flights_data if item[0].label==-1]\n",
    "if len(check_data_labeled)==0:\n",
    "    raise SystemExit(\"Data is labeled!\")\n",
    "else:\n",
    "    print('Data is not labeled')"
   ],
   "metadata": {
    "collapsed": false,
    "pycharm": {
     "name": "#%%\n"
    }
   },
   "execution_count": 244,
   "outputs": [
    {
     "name": "stdout",
     "output_type": "stream",
     "text": [
      "The length of data is: 11812\n",
      "Data is not labeled\n"
     ]
    }
   ]
  },
  {
   "cell_type": "markdown",
   "source": [
    "### The length of data"
   ],
   "metadata": {
    "collapsed": false,
    "pycharm": {
     "name": "#%% md\n"
    }
   }
  },
  {
   "cell_type": "code",
   "execution_count": 245,
   "outputs": [
    {
     "name": "stdout",
     "output_type": "stream",
     "text": [
      "2 days: 812 \n",
      "1 days: 565 \n",
      "3 days: 994 \n",
      "4 days: 873 \n",
      "7 days: 1067 \n",
      "6 days: 633 \n",
      "10 days: 625 \n",
      "9 days: 675 \n",
      "13 days: 360 \n",
      "12 days: 531 \n",
      "5 days: 818 \n",
      "8 days: 524 \n",
      "21 days: 331 \n",
      "20 days: 201 \n",
      "18 days: 277 \n",
      "17 days: 317 \n",
      "16 days: 381 \n",
      "15 days: 298 \n",
      "14 days: 624 \n",
      "11 days: 530 \n",
      "19 days: 293 \n",
      "0 days: 58 \n",
      "23 days: 7 \n",
      "28 days: 11 \n",
      "25 days: 2 \n",
      "22 days: 1 \n",
      "27 days: 2 \n",
      "29 days: 2 \n"
     ]
    }
   ],
   "source": [
    "dict_flights_per_days= {}\n",
    "for flight in flights_data:\n",
    "    flight_days=(datetime.strptime(flight[0].return_date, '%Y-%m-%d')\n",
    "    -datetime.strptime(flight[0].depart_date,'%Y-%m-%d')).days\n",
    "    try:\n",
    "        dict_flights_per_days[flight_days].append(flight)\n",
    "    except KeyError:\n",
    "        dict_flights_per_days[flight_days]=[]\n",
    "        dict_flights_per_days[flight_days].append(flight)\n",
    "\n",
    "for ele,val in dict_flights_per_days.items():\n",
    "    print(f\"{str(ele)} days: {str(len(val))} \")"
   ],
   "metadata": {
    "collapsed": false,
    "pycharm": {
     "name": "#%%\n"
    }
   }
  },
  {
   "cell_type": "markdown",
   "source": [
    "### Filter the irrelevant data"
   ],
   "metadata": {
    "collapsed": false,
    "pycharm": {
     "name": "#%% md\n"
    }
   }
  },
  {
   "cell_type": "code",
   "execution_count": 246,
   "outputs": [
    {
     "name": "stdout",
     "output_type": "stream",
     "text": [
      "Flight:: departure:  Airport:: name: Ben Gurion Airport code: TLV\n",
      "Country:: name: Israel code: IL\n",
      "destination:  Airport:: name: All Milano Airports code: MILA\n",
      "Country:: name: Italy code: IT\n",
      "depart date:  2021-03-01 return date:  2021-03-03\n",
      "price:  345 label:  0\n",
      "Flight:: departure:  Airport:: name: Ben Gurion Airport code: TLV\n",
      "Country:: name: Israel code: IL\n",
      "destination:  Airport:: name: All Milano Airports code: MILA\n",
      "Country:: name: Italy code: IT\n",
      "depart date:  2021-03-02 return date:  2021-03-04\n",
      "price:  689 label:  0\n",
      "Flight:: departure:  Airport:: name: Ben Gurion Airport code: TLV\n",
      "Country:: name: Israel code: IL\n",
      "destination:  Airport:: name: All Milano Airports code: MILA\n",
      "Country:: name: Italy code: IT\n",
      "depart date:  2021-03-09 return date:  2021-03-11\n",
      "price:  689 label:  0\n",
      "Flight:: departure:  Airport:: name: Ben Gurion Airport code: TLV\n",
      "Country:: name: Israel code: IL\n",
      "destination:  Airport:: name: All Milano Airports code: MILA\n",
      "Country:: name: Italy code: IT\n",
      "depart date:  2021-03-12 return date:  2021-03-14\n",
      "price:  728 label:  0\n",
      "Flight:: departure:  Airport:: name: Ben Gurion Airport code: TLV\n",
      "Country:: name: Israel code: IL\n",
      "destination:  Airport:: name: All Milano Airports code: MILA\n",
      "Country:: name: Italy code: IT\n",
      "depart date:  2021-03-02 return date:  2021-03-04\n",
      "price:  615 label:  0\n"
     ]
    }
   ],
   "source": [
    "for ele,val in dict_flights_per_days.items():\n",
    "    for item in val:\n",
    "        if ele<3 or ele>7:\n",
    "            item[0].label=0\n",
    "for item in dict_flights_per_days[2][:5]:\n",
    "    print(item[0])"
   ],
   "metadata": {
    "collapsed": false,
    "pycharm": {
     "name": "#%%\n"
    }
   }
  },
  {
   "cell_type": "markdown",
   "source": [
    "### Items per class:"
   ],
   "metadata": {
    "collapsed": false,
    "pycharm": {
     "name": "#%% md\n"
    }
   }
  },
  {
   "cell_type": "code",
   "execution_count": 247,
   "outputs": [
    {
     "name": "stdout",
     "output_type": "stream",
     "text": [
      "3 days have 994 items :\n",
      "497 in high class \n",
      "249 in mid class \n",
      "149 in low class \n",
      "99 in very low class \n",
      "\n",
      "4 days have 873 items :\n",
      "393 in high class \n",
      "219 in mid class \n",
      "131 in low class \n",
      "130 in very low class \n",
      "\n",
      "5 days have 818 items :\n",
      "393 in high class \n",
      "262 in mid class \n",
      "82 in low class \n",
      "81 in very low class \n",
      "\n",
      "6 days have 633 items :\n",
      "317 in high class \n",
      "127 in mid class \n",
      "114 in low class \n",
      "75 in very low class \n",
      "\n",
      "7 days have 1067 items :\n",
      "481 in high class \n",
      "426 in mid class \n",
      "139 in low class \n",
      "21 in very low class \n",
      "\n"
     ]
    }
   ],
   "source": [
    "relevant_data= {}\n",
    "with open(os.path.dirname(os.path.abspath(\"__file__\")) +\n",
    "          '/../Data/Flights/dict_rates_label.json', 'r') as f:\n",
    "    dict_rates = json.load(f)\n",
    "if destination not in dict_rates:\n",
    "        dict_rates[destination]={}\n",
    "        check_write_rates=True\n",
    "for num_days in range(3,8):\n",
    "    sorted_flight_per_day=sorted(dict_flights_per_days[num_days],\n",
    "                                 key=lambda x: (x[0]).price)\n",
    "    length_list=len(sorted_flight_per_day)\n",
    "    print(f'{num_days} days have {str(length_list)}'\n",
    "          f' items :')\n",
    "    if check_write_rates:\n",
    "        if num_days==3:\n",
    "            mid_rate=0.50\n",
    "            low_rate=0.25\n",
    "            very_low_rate=0.1\n",
    "        elif num_days==4:\n",
    "            mid_rate=0.55\n",
    "            low_rate=0.3\n",
    "            very_low_rate=0.15\n",
    "        elif num_days==5:\n",
    "            mid_rate=0.52\n",
    "            low_rate=0.2\n",
    "            very_low_rate=0.10\n",
    "        elif num_days==6:\n",
    "            mid_rate=0.50\n",
    "            low_rate=0.3\n",
    "            very_low_rate=0.12\n",
    "        elif num_days==7:\n",
    "            mid_rate=0.55\n",
    "            low_rate=0.15\n",
    "            very_low_rate=0.02\n",
    "        dict_rates[destination][num_days]= {'very low rate': very_low_rate,\n",
    "                                      'low rate': low_rate,\n",
    "                                      'mid rate': mid_rate}\n",
    "    else:\n",
    "        very_low_rate=dict_rates[destination][num_days]['very low rate']\n",
    "        low_rate=dict_rates[destination][num_days]['low rate']\n",
    "        mid_rate=dict_rates[destination][num_days]['mid rate']\n",
    "        check_write_rates=False\n",
    "    very_low_list=sorted_flight_per_day[0:int(length_list * very_low_rate)]\n",
    "    low_list=sorted_flight_per_day[int(length_list * very_low_rate):\n",
    "                                   int(length_list * low_rate)]\n",
    "    mid_list=sorted_flight_per_day[int(length_list * low_rate):\n",
    "                                   int(length_list * mid_rate)]\n",
    "    high_list=sorted_flight_per_day[int(length_list * mid_rate):\n",
    "                                   int(length_list)]\n",
    "    print(f'{str(len(high_list))} in high class \\n'\n",
    "          f'{str(len(mid_list))} in mid class \\n'\n",
    "          f'{str(len(low_list))} in low class \\n'\n",
    "          f'{str(len(very_low_list))} in very low class \\n')\n",
    "    relevant_data[num_days]= {}\n",
    "    relevant_data[num_days]['high rate']=high_list\n",
    "    relevant_data[num_days]['mid rate']=mid_list\n",
    "    relevant_data[num_days]['low rate']=low_list\n",
    "    relevant_data[num_days]['very low rate']=very_low_list\n",
    "\n",
    "if check_write_rates:\n",
    "    with open(os.path.dirname(os.path.abspath(\"__file__\")) +\n",
    "          '/../Data/Flights/dict_rates_label.json', 'w', encoding='utf-8') as fp:\n",
    "        json.dump(dict_rates, fp,ensure_ascii=False, indent=4)"
   ],
   "metadata": {
    "collapsed": false,
    "pycharm": {
     "name": "#%%\n"
    }
   }
  },
  {
   "cell_type": "markdown",
   "source": [
    "### Price range per class"
   ],
   "metadata": {
    "collapsed": false,
    "pycharm": {
     "name": "#%% md\n",
     "is_executing": true
    }
   }
  },
  {
   "cell_type": "code",
   "execution_count": 248,
   "outputs": [
    {
     "name": "stdout",
     "output_type": "stream",
     "text": [
      "3 days:\n",
      "very low prices: 174-345\n",
      "low prices:345-486\n",
      "mid prices:490-689\n",
      "high prices:689-3465\n",
      "\n",
      "4 days:\n",
      "very low prices: 167-382\n",
      "low prices:383-516\n",
      "mid prices:517-701\n",
      "high prices:710-3544\n",
      "\n",
      "5 days:\n",
      "very low prices: 174-462\n",
      "low prices:466-526\n",
      "mid prices:526-728\n",
      "high prices:728-3568\n",
      "\n",
      "6 days:\n",
      "very low prices: 296-433\n",
      "low prices:434-557\n",
      "mid prices:559-691\n",
      "high prices:692-4626\n",
      "\n",
      "7 days:\n",
      "very low prices: 267-314\n",
      "low prices:314-419\n",
      "mid prices:420-770\n",
      "high prices:771-2179\n",
      "\n"
     ]
    }
   ],
   "source": [
    "for day in range(3,8):\n",
    "    print(f'{day} days:')\n",
    "    try:\n",
    "        print(f'very low prices: '\n",
    "              f'{str(int(relevant_data[day][\"very low rate\"][0][0].price))}-'\n",
    "          f'{str(int(relevant_data[day][\"very low rate\"][-1][0].price))}')\n",
    "    except:\n",
    "        pass\n",
    "    try:\n",
    "        print(f'low prices:{str(int(relevant_data[day][\"low rate\"][0][0].price))}-'\n",
    "          f'{str(int(relevant_data[day][\"low rate\"][-1][0].price))}')\n",
    "    except:\n",
    "        pass\n",
    "    try:\n",
    "        print(f'mid prices:{str(int(relevant_data[day][\"mid rate\"][0][0].price))}-'\n",
    "          f'{str(int(relevant_data[day][\"mid rate\"][-1][0].price))}')\n",
    "    except:\n",
    "        pass\n",
    "    try:\n",
    "        print(f'high prices:{str(int(relevant_data[day][\"high rate\"][0][0].price))}-'\n",
    "          f'{str(int(relevant_data[day][\"high rate\"][-1][0].price))}\\n')\n",
    "    except:\n",
    "        pass\n",
    "\n"
   ],
   "metadata": {
    "collapsed": false,
    "pycharm": {
     "name": "#%%\n"
    }
   }
  },
  {
   "cell_type": "markdown",
   "source": [
    "### Label data"
   ],
   "metadata": {
    "collapsed": false,
    "pycharm": {
     "name": "#%% md\n"
    }
   }
  },
  {
   "cell_type": "code",
   "execution_count": 249,
   "outputs": [
    {
     "name": "stdout",
     "output_type": "stream",
     "text": [
      "3 days:Successful\n",
      "4 days:Successful\n",
      "5 days:Successful\n",
      "6 days:Successful\n",
      "7 days:Successful\n"
     ]
    }
   ],
   "source": [
    "for day in range(3,8):\n",
    "    for item in relevant_data[day][\"very low rate\"]:\n",
    "        item[0].label=4\n",
    "    for item in relevant_data[day][\"low rate\"]:\n",
    "        item[0].label=3\n",
    "    for item in relevant_data[day][\"mid rate\"]:\n",
    "        item[0].label=2\n",
    "    for item in relevant_data[day][\"high rate\"]:\n",
    "        item[0].label=1\n",
    "    test_list=[item for item in dict_flights_per_days[day] if item[0].label==-1]\n",
    "    if len(test_list)!=0:\n",
    "        print(f'{day} days:Fail,there are leaks in data')\n",
    "    else:\n",
    "        print(f'{day} days:Successful')\n",
    "\n"
   ],
   "metadata": {
    "collapsed": false,
    "pycharm": {
     "name": "#%%\n"
    }
   }
  },
  {
   "cell_type": "markdown",
   "source": [
    "### Write down the data to files"
   ],
   "metadata": {
    "collapsed": false
   }
  },
  {
   "cell_type": "code",
   "execution_count": 250,
   "outputs": [
    {
     "name": "stdout",
     "output_type": "stream",
     "text": [
      "The data is valid and start write the data to files\n"
     ]
    }
   ],
   "source": [
    "data_list=[ele for key,val in dict_flights_per_days.items() for ele in val]\n",
    "test_data_list=[item for item in data_list if item[0].label==-1]\n",
    "if len(test_data_list)==0:\n",
    "    print(\"The data is valid and start write the data to files\")\n",
    "    dict_flights_per_files={}\n",
    "    for item in data_list:\n",
    "        if item[1] in dict_flights_per_files:\n",
    "            dict_flights_per_files[item[1]].append(item[0])\n",
    "        else:\n",
    "            dict_flights_per_files[item[1]]=[]\n",
    "            dict_flights_per_files[item[1]].append(item[0])\n",
    "    for json_file,flights in dict_flights_per_files.items():\n",
    "        with open(os.path.dirname(os.path.abspath(\"__file__\"))\n",
    "                  + \"/../\" + json_file,'w',encoding='utf-8') as f:\n",
    "            json.dump(flights, f, ensure_ascii=False, default=General.obj_dict, indent=4)"
   ],
   "metadata": {
    "collapsed": false,
    "pycharm": {
     "name": "#%%\n"
    }
   }
  },
  {
   "cell_type": "markdown",
   "source": [
    "### Validation for writing data"
   ],
   "metadata": {
    "collapsed": false,
    "pycharm": {
     "name": "#%% md\n"
    }
   }
  },
  {
   "cell_type": "code",
   "execution_count": 251,
   "outputs": [
    {
     "name": "stdout",
     "output_type": "stream",
     "text": [
      "Successful write data\n"
     ]
    }
   ],
   "source": [
    "with open(os.path.dirname(os.path.abspath(\"__file__\")) +\n",
    "          '/../Data/Flights/json_files_dict.json', 'r') as f:\n",
    "    dict = json.load(f)\n",
    "with open(os.path.dirname(os.path.abspath(\"__file__\")) +\n",
    "          '/../Data/Flights/airports_countries.json', 'r') as f2:\n",
    "    shortcut_dict = json.load(f2)\n",
    "if destination in shortcut_dict:\n",
    "    fullname_airport = shortcut_dict[destination]['airportName']\n",
    "    list = dict[fullname_airport]\n",
    "    flights_data_valid = []\n",
    "    for json_file in list:\n",
    "        with open(os.path.dirname(os.path.abspath(\"__file__\"))\n",
    "                  + \"/../\" + json_file) as f:\n",
    "         data = json.load(f)\n",
    "        for temp in data:\n",
    "            flights_data_valid.append((Flight(**temp),json_file))\n",
    "else:\n",
    "    raise SystemExit(\"The destination is not found!\")\n",
    "if len(flights_data_valid)==len(flights_data):\n",
    "    print(\"Successful write data\")\n",
    "else:\n",
    "    print(\"Failed write data\")"
   ],
   "metadata": {
    "collapsed": false,
    "pycharm": {
     "name": "#%%\n"
    }
   }
  },
  {
   "cell_type": "markdown",
   "source": [
    "### Graph after labeling"
   ],
   "metadata": {
    "collapsed": false
   }
  },
  {
   "cell_type": "code",
   "execution_count": 252,
   "outputs": [
    {
     "data": {
      "text/plain": "<Figure size 432x288 with 1 Axes>",
      "image/png": "[encoded data removed]"
     },
     "metadata": {
      "needs_background": "light"
     },
     "output_type": "display_data"
    }
   ],
   "source": [
    "statistics.get_statistic_of_destination(destination)\n",
    "\n",
    "\n"
   ],
   "metadata": {
    "collapsed": false,
    "pycharm": {
     "name": "#%%\n"
    }
   }
  }
 ],
 "metadata": {
  "kernelspec": {
   "display_name": "Python 3",
   "language": "python",
   "name": "python3"
  },
  "language_info": {
   "codemirror_mode": {
    "name": "ipython",
    "version": 2
   },
   "file_extension": ".py",
   "mimetype": "text/x-python",
   "name": "python",
   "nbconvert_exporter": "python",
   "pygments_lexer": "ipython2",
   "version": "2.7.6"
  }
 },
 "nbformat": 4,
 "nbformat_minor": 0
}