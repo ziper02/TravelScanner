{
 "cells": [
  {
   "cell_type": "code",
   "execution_count": 45,
   "metadata": {
    "collapsed": true
   },
   "outputs": [],
   "source": [
    "from Utilities import Statistics as statistics\n",
    "import os\n",
    "import json\n",
    "from Entity.Flight import Flight\n",
    "from datetime import datetime\n",
    "from Utilities import General"
   ]
  },
  {
   "cell_type": "markdown",
   "source": [
    "### Graph before labeling\n"
   ],
   "metadata": {
    "collapsed": false,
    "pycharm": {
     "name": "#%% md\n"
    }
   }
  },
  {
   "cell_type": "code",
   "execution_count": 46,
   "outputs": [
    {
     "data": {
      "text/plain": "<Figure size 432x288 with 1 Axes>",
      "image/png": "[encoded data removed]"
     },
     "metadata": {
      "needs_background": "light"
     },
     "output_type": "display_data"
    }
   ],
   "source": [
    "destination=\"LOND\"\n",
    "\n",
    "statistics.get_statistic_of_destination(destination)"
   ],
   "metadata": {
    "collapsed": false,
    "pycharm": {
     "name": "#%%\n"
    }
   }
  },
  {
   "cell_type": "markdown",
   "source": [
    "### Load the data of destination"
   ],
   "metadata": {
    "collapsed": false,
    "pycharm": {
     "name": "#%% md\n"
    }
   }
  },
  {
   "cell_type": "code",
   "source": [
    "with open(os.path.dirname(os.path.abspath(\"__file__\")) +\n",
    "          '/../Data/Flights/json_files_dict.json', 'r') as f:\n",
    "    dict = json.load(f)\n",
    "with open(os.path.dirname(os.path.abspath(\"__file__\")) +\n",
    "          '/../Data/Flights/airports_countries.json', 'r') as f2:\n",
    "    shortcut_dict = json.load(f2)\n",
    "if destination in shortcut_dict:\n",
    "    fullname_airport = shortcut_dict[destination]['airportName']\n",
    "    list = dict[fullname_airport]\n",
    "    flights_data = []\n",
    "    for json_file in list:\n",
    "        with open(os.path.dirname(os.path.abspath(\"__file__\"))\n",
    "                  + \"/../\" + json_file) as f:\n",
    "         data = json.load(f)\n",
    "        for temp in data:\n",
    "            flights_data.append((Flight(**temp),json_file))\n",
    "else:\n",
    "    raise SystemExit(\"The destination is not found!\")\n",
    "print(f'The length of data is: {str(len(flights_data))}')\n",
    "check_data_labeled=[item for item in flights_data if item[0].label==-1]\n",
    "if len(check_data_labeled)==0:\n",
    "    raise SystemExit(\"Data is labeled!\")\n",
    "else:\n",
    "    print('Data is not labeled')"
   ],
   "metadata": {
    "collapsed": false,
    "pycharm": {
     "name": "#%%\n"
    }
   },
   "execution_count": 47,
   "outputs": [
    {
     "name": "stdout",
     "output_type": "stream",
     "text": [
      "The length of data is: 37175\n",
      "Data is not labeled\n"
     ]
    }
   ]
  },
  {
   "cell_type": "markdown",
   "source": [
    "### The length of data"
   ],
   "metadata": {
    "collapsed": false,
    "pycharm": {
     "name": "#%% md\n"
    }
   }
  },
  {
   "cell_type": "code",
   "execution_count": 48,
   "outputs": [
    {
     "name": "stdout",
     "output_type": "stream",
     "text": [
      "3 days: 4114 \n",
      "4 days: 4101 \n",
      "5 days: 3987 \n",
      "6 days: 3865 \n",
      "0 days: 405 \n",
      "1 days: 1948 \n",
      "2 days: 1911 \n",
      "7 days: 1832 \n",
      "8 days: 1598 \n",
      "9 days: 1456 \n",
      "10 days: 1411 \n",
      "11 days: 1315 \n",
      "12 days: 1245 \n",
      "13 days: 1138 \n",
      "14 days: 1163 \n",
      "15 days: 1010 \n",
      "16 days: 948 \n",
      "17 days: 870 \n",
      "18 days: 802 \n",
      "19 days: 722 \n",
      "20 days: 657 \n",
      "21 days: 606 \n",
      "30 days: 13 \n",
      "22 days: 10 \n",
      "26 days: 9 \n",
      "24 days: 11 \n",
      "29 days: 13 \n",
      "28 days: 3 \n",
      "25 days: 4 \n",
      "23 days: 4 \n",
      "27 days: 4 \n"
     ]
    }
   ],
   "source": [
    "dict_flights_per_days= {}\n",
    "for flight in flights_data:\n",
    "    flight_days=(datetime.strptime(flight[0].return_date, '%Y-%m-%d')\n",
    "    -datetime.strptime(flight[0].depart_date,'%Y-%m-%d')).days\n",
    "    try:\n",
    "        dict_flights_per_days[flight_days].append(flight)\n",
    "    except KeyError:\n",
    "        dict_flights_per_days[flight_days]=[]\n",
    "        dict_flights_per_days[flight_days].append(flight)\n",
    "\n",
    "for ele,val in dict_flights_per_days.items():\n",
    "    print(f\"{str(ele)} days: {str(len(val))} \")"
   ],
   "metadata": {
    "collapsed": false,
    "pycharm": {
     "name": "#%%\n"
    }
   }
  },
  {
   "cell_type": "markdown",
   "source": [
    "### Filter the irrelevant data"
   ],
   "metadata": {
    "collapsed": false,
    "pycharm": {
     "name": "#%% md\n"
    }
   }
  },
  {
   "cell_type": "code",
   "execution_count": 49,
   "outputs": [
    {
     "name": "stdout",
     "output_type": "stream",
     "text": [
      "Flight:: departure:  Airport:: name: Ben Gurion Airport code: TLV\n",
      "Country:: name: Israel code: IL\n",
      "destination:  Airport:: name: All London Airports code: LOND\n",
      "Country:: name: United Kingdom code: GB\n",
      "depart date:  2020-07-02 return date:  2020-07-04\n",
      "price:  415 label:  0\n",
      "Flight:: departure:  Airport:: name: Ben Gurion Airport code: TLV\n",
      "Country:: name: Israel code: IL\n",
      "destination:  Airport:: name: All London Airports code: LOND\n",
      "Country:: name: United Kingdom code: GB\n",
      "depart date:  2020-07-04 return date:  2020-07-06\n",
      "price:  720 label:  0\n",
      "Flight:: departure:  Airport:: name: Ben Gurion Airport code: TLV\n",
      "Country:: name: Israel code: IL\n",
      "destination:  Airport:: name: All London Airports code: LOND\n",
      "Country:: name: United Kingdom code: GB\n",
      "depart date:  2020-07-05 return date:  2020-07-07\n",
      "price:  1184 label:  0\n",
      "Flight:: departure:  Airport:: name: Ben Gurion Airport code: TLV\n",
      "Country:: name: Israel code: IL\n",
      "destination:  Airport:: name: All London Airports code: LOND\n",
      "Country:: name: United Kingdom code: GB\n",
      "depart date:  2020-07-06 return date:  2020-07-08\n",
      "price:  798 label:  0\n",
      "Flight:: departure:  Airport:: name: Ben Gurion Airport code: TLV\n",
      "Country:: name: Israel code: IL\n",
      "destination:  Airport:: name: All London Airports code: LOND\n",
      "Country:: name: United Kingdom code: GB\n",
      "depart date:  2020-07-07 return date:  2020-07-09\n",
      "price:  854 label:  0\n"
     ]
    }
   ],
   "source": [
    "for ele,val in dict_flights_per_days.items():\n",
    "    for item in val:\n",
    "        if ele<3 or ele>7:\n",
    "            item[0].label=0\n",
    "for item in dict_flights_per_days[2][:5]:\n",
    "    print(item[0])"
   ],
   "metadata": {
    "collapsed": false,
    "pycharm": {
     "name": "#%%\n"
    }
   }
  },
  {
   "cell_type": "markdown",
   "source": [
    "### Items per class:"
   ],
   "metadata": {
    "collapsed": false,
    "pycharm": {
     "name": "#%% md\n"
    }
   }
  },
  {
   "cell_type": "code",
   "execution_count": 50,
   "outputs": [
    {
     "name": "stdout",
     "output_type": "stream",
     "text": [
      "3 days have 4114 items :\n",
      "2469 in high class \n",
      "1563 in mid class \n",
      "66 in low class \n",
      "16 in very low class \n",
      "\n",
      "4 days have 4101 items :\n",
      "2461 in high class \n",
      "1312 in mid class \n",
      "226 in low class \n",
      "102 in very low class \n",
      "\n",
      "5 days have 3987 items :\n",
      "2393 in high class \n",
      "1076 in mid class \n",
      "319 in low class \n",
      "199 in very low class \n",
      "\n",
      "6 days have 3865 items :\n",
      "2319 in high class \n",
      "1044 in mid class \n",
      "309 in low class \n",
      "193 in very low class \n",
      "\n",
      "7 days have 1832 items :\n",
      "1100 in high class \n",
      "586 in mid class \n",
      "128 in low class \n",
      "18 in very low class \n",
      "\n"
     ]
    }
   ],
   "source": [
    "relevant_data= {}\n",
    "for num_days in range(3,8):\n",
    "    sorted_flight_per_day=sorted(dict_flights_per_days[num_days],\n",
    "                                 key=lambda x: (x[0]).price)\n",
    "    length_list=len(sorted_flight_per_day)\n",
    "    print(f'{num_days} days have {str(length_list)}'\n",
    "          f' items :')\n",
    "    if num_days==3:\n",
    "        mid_rate=0.4\n",
    "        low_rate=0.02\n",
    "        very_low_rate=0.004\n",
    "    elif num_days==4:\n",
    "        mid_rate=0.4\n",
    "        low_rate=0.08\n",
    "        very_low_rate=0.025\n",
    "    elif num_days==5:\n",
    "        mid_rate=0.4\n",
    "        low_rate=0.13\n",
    "        very_low_rate=0.05\n",
    "    elif num_days==6:\n",
    "        mid_rate=0.4\n",
    "        low_rate=0.13\n",
    "        very_low_rate=0.05\n",
    "    elif num_days==7:\n",
    "        mid_rate=0.4\n",
    "        low_rate=0.08\n",
    "        very_low_rate=0.01\n",
    "\n",
    "    very_low_list=sorted_flight_per_day[0:int(length_list * very_low_rate)]\n",
    "    low_list=sorted_flight_per_day[int(length_list * very_low_rate):\n",
    "                                   int(length_list * low_rate)]\n",
    "    mid_list=sorted_flight_per_day[int(length_list * low_rate):\n",
    "                                   int(length_list * mid_rate)]\n",
    "    high_list=sorted_flight_per_day[int(length_list * mid_rate):\n",
    "                                   int(length_list)]\n",
    "    print(f'{str(len(high_list))} in high class \\n'\n",
    "          f'{str(len(mid_list))} in mid class \\n'\n",
    "          f'{str(len(low_list))} in low class \\n'\n",
    "          f'{str(len(very_low_list))} in very low class \\n')\n",
    "    relevant_data[num_days]= {}\n",
    "    relevant_data[num_days]['high rate']=high_list\n",
    "    relevant_data[num_days]['mid rate']=mid_list\n",
    "    relevant_data[num_days]['low rate']=low_list\n",
    "    relevant_data[num_days]['very low rate']=very_low_list"
   ],
   "metadata": {
    "collapsed": false,
    "pycharm": {
     "name": "#%%\n"
    }
   }
  },
  {
   "cell_type": "markdown",
   "source": [
    "### Price range per class"
   ],
   "metadata": {
    "collapsed": false,
    "pycharm": {
     "name": "#%% md\n",
     "is_executing": true
    }
   }
  },
  {
   "cell_type": "code",
   "execution_count": 51,
   "outputs": [
    {
     "name": "stdout",
     "output_type": "stream",
     "text": [
      "3 days:\n",
      "very low prices: 278-319\n",
      "low prices:322-385\n",
      "mid prices:387-966\n",
      "high prices:966-4494\n",
      "\n",
      "4 days:\n",
      "very low prices: 278-385\n",
      "low prices:385-488\n",
      "mid prices:488-961\n",
      "high prices:961-3920\n",
      "\n",
      "5 days:\n",
      "very low prices: 278-452\n",
      "low prices:454-581\n",
      "mid prices:581-968\n",
      "high prices:968-3305\n",
      "\n",
      "6 days:\n",
      "very low prices: 278-461\n",
      "low prices:461-587\n",
      "mid prices:588-972\n",
      "high prices:972-4478\n",
      "\n",
      "7 days:\n",
      "very low prices: 290-339\n",
      "low prices:341-488\n",
      "mid prices:488-961\n",
      "high prices:961-3769\n",
      "\n"
     ]
    }
   ],
   "source": [
    "for day in range(3,8):\n",
    "    print(f'{day} days:\\nvery low prices: '\n",
    "          f'{str(int(relevant_data[day][\"very low rate\"][0][0].price))}-'\n",
    "      f'{str(int(relevant_data[day][\"very low rate\"][-1][0].price))}')\n",
    "    print(f'low prices:{str(int(relevant_data[day][\"low rate\"][0][0].price))}-'\n",
    "      f'{str(int(relevant_data[day][\"low rate\"][-1][0].price))}')\n",
    "    print(f'mid prices:{str(int(relevant_data[day][\"mid rate\"][0][0].price))}-'\n",
    "      f'{str(int(relevant_data[day][\"mid rate\"][-1][0].price))}')\n",
    "    print(f'high prices:{str(int(relevant_data[day][\"high rate\"][0][0].price))}-'\n",
    "      f'{str(int(relevant_data[day][\"high rate\"][-1][0].price))}\\n')\n"
   ],
   "metadata": {
    "collapsed": false,
    "pycharm": {
     "name": "#%%\n"
    }
   }
  },
  {
   "cell_type": "markdown",
   "source": [
    "### Label data"
   ],
   "metadata": {
    "collapsed": false,
    "pycharm": {
     "name": "#%% md\n"
    }
   }
  },
  {
   "cell_type": "code",
   "execution_count": 52,
   "outputs": [
    {
     "name": "stdout",
     "output_type": "stream",
     "text": [
      "3 days:Successful\n",
      "4 days:Successful\n",
      "5 days:Successful\n",
      "6 days:Successful\n",
      "7 days:Successful\n"
     ]
    }
   ],
   "source": [
    "for day in range(3,8):\n",
    "    for item in relevant_data[day][\"very low rate\"]:\n",
    "        item[0].label=4\n",
    "    for item in relevant_data[day][\"low rate\"]:\n",
    "        item[0].label=3\n",
    "    for item in relevant_data[day][\"mid rate\"]:\n",
    "        item[0].label=2\n",
    "    for item in relevant_data[day][\"high rate\"]:\n",
    "        item[0].label=1\n",
    "    test_list=[item for item in dict_flights_per_days[day] if item[0].label==-1]\n",
    "    if len(test_list)!=0:\n",
    "        print(f'{day} days:Fail,there are leaks in data')\n",
    "    else:\n",
    "        print(f'{day} days:Successful')\n",
    "\n"
   ],
   "metadata": {
    "collapsed": false,
    "pycharm": {
     "name": "#%%\n"
    }
   }
  },
  {
   "cell_type": "markdown",
   "source": [
    "### Write down the data to files"
   ],
   "metadata": {
    "collapsed": false
   }
  },
  {
   "cell_type": "code",
   "execution_count": 53,
   "outputs": [
    {
     "name": "stdout",
     "output_type": "stream",
     "text": [
      "The data is valid and start write the data to files\n"
     ]
    }
   ],
   "source": [
    "data_list=[ele for key,val in dict_flights_per_days.items() for ele in val]\n",
    "test_data_list=[item for item in data_list if item[0].label==-1]\n",
    "if len(test_data_list)==0:\n",
    "    print(\"The data is valid and start write the data to files\")\n",
    "    dict_flights_per_files={}\n",
    "    for item in data_list:\n",
    "        if item[1] in dict_flights_per_files:\n",
    "            dict_flights_per_files[item[1]].append(item[0])\n",
    "        else:\n",
    "            dict_flights_per_files[item[1]]=[]\n",
    "            dict_flights_per_files[item[1]].append(item[0])\n",
    "    for json_file,flights in dict_flights_per_files.items():\n",
    "        with open(os.path.dirname(os.path.abspath(\"__file__\"))\n",
    "                  + \"/../\" + json_file,'w',encoding='utf-8') as f:\n",
    "            json.dump(flights, f, ensure_ascii=False, default=General.obj_dict, indent=4)"
   ],
   "metadata": {
    "collapsed": false,
    "pycharm": {
     "name": "#%%\n"
    }
   }
  },
  {
   "cell_type": "markdown",
   "source": [
    "### Validation for writing data"
   ],
   "metadata": {
    "collapsed": false,
    "pycharm": {
     "name": "#%% md\n"
    }
   }
  },
  {
   "cell_type": "code",
   "execution_count": 54,
   "outputs": [
    {
     "name": "stdout",
     "output_type": "stream",
     "text": [
      "Successful write data\n"
     ]
    }
   ],
   "source": [
    "with open(os.path.dirname(os.path.abspath(\"__file__\")) +\n",
    "          '/../Data/Flights/json_files_dict.json', 'r') as f:\n",
    "    dict = json.load(f)\n",
    "with open(os.path.dirname(os.path.abspath(\"__file__\")) +\n",
    "          '/../Data/Flights/airports_countries.json', 'r') as f2:\n",
    "    shortcut_dict = json.load(f2)\n",
    "if destination in shortcut_dict:\n",
    "    fullname_airport = shortcut_dict[destination]['airportName']\n",
    "    list = dict[fullname_airport]\n",
    "    flights_data_valid = []\n",
    "    for json_file in list:\n",
    "        with open(os.path.dirname(os.path.abspath(\"__file__\"))\n",
    "                  + \"/../\" + json_file) as f:\n",
    "         data = json.load(f)\n",
    "        for temp in data:\n",
    "            flights_data_valid.append((Flight(**temp),json_file))\n",
    "else:\n",
    "    raise SystemExit(\"The destination is not found!\")\n",
    "if len(flights_data_valid)==len(flights_data):\n",
    "    print(\"Successful write data\")\n",
    "else:\n",
    "    print(\"Failed write data\")"
   ],
   "metadata": {
    "collapsed": false,
    "pycharm": {
     "name": "#%%\n"
    }
   }
  },
  {
   "cell_type": "markdown",
   "source": [
    "### Graph after labeling"
   ],
   "metadata": {
    "collapsed": false
   }
  },
  {
   "cell_type": "code",
   "execution_count": 55,
   "outputs": [
    {
     "data": {
      "text/plain": "<Figure size 432x288 with 1 Axes>",
      "image/png": "[encoded data removed]"
     },
     "metadata": {
      "needs_background": "light"
     },
     "output_type": "display_data"
    }
   ],
   "source": [
    "statistics.get_statistic_of_destination(destination)\n",
    "\n",
    "\n"
   ],
   "metadata": {
    "collapsed": false,
    "pycharm": {
     "name": "#%%\n"
    }
   }
  }
 ],
 "metadata": {
  "kernelspec": {
   "display_name": "Python 3",
   "language": "python",
   "name": "python3"
  },
  "language_info": {
   "codemirror_mode": {
    "name": "ipython",
    "version": 2
   },
   "file_extension": ".py",
   "mimetype": "text/x-python",
   "name": "python",
   "nbconvert_exporter": "python",
   "pygments_lexer": "ipython2",
   "version": "2.7.6"
  }
 },
 "nbformat": 4,
 "nbformat_minor": 0
}